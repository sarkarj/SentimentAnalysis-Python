{
 "cells": [
  {
   "cell_type": "code",
   "execution_count": null,
   "metadata": {},
   "outputs": [],
   "source": [
    "# Python library Textblob provides a simple API for NLP based sentiment analysis\n",
    "from textblob import TextBlob\n",
    "\n",
    "txt = \"The book was engaging, enjoyed reading, definitely recommending\"\n",
    "blob = TextBlob(txt)\n",
    "\n",
    "#Polarity of sentiment orientation (positive, neutral, and negative)\n",
    "for sentence in blob.sentences:\n",
    "    print(sentence.sentiment)"
   ]
  },
  {
   "cell_type": "code",
   "execution_count": null,
   "metadata": {},
   "outputs": [],
   "source": [
    "#Using Flair- state-of-the-art NLP model\n",
    "from flair.models import TextClassifier\n",
    "from flair.data import Sentence\n",
    "\n",
    "# Loading English pretrained sentiment classification model\n",
    "classifier = TextClassifier.load('en-sentiment')\n",
    "\n",
    "txt = \"The book was engaging, enjoyed reading, definitely recommending\"\n",
    "sentence = Sentence(txt)\n",
    "classifier.predict(sentence)\n",
    "print('Sentence Score : ', sentence.labels)"
   ]
  },
  {
   "cell_type": "code",
   "execution_count": null,
   "metadata": {},
   "outputs": [],
   "source": [
    "from flask import abort, Flask, jsonify, request\n",
    "\n",
    "from flair.models import TextClassifier\n",
    "from flair.data import Sentence\n",
    "classifier = TextClassifier.load('en-sentiment')\n",
    "\n",
    "app = Flask(__name__)\n",
    "@app.route('/api/v1', methods=['POST'])\n",
    "\n",
    "def response():\n",
    "    if not request.json or not 'message' in request.json:\n",
    "        abort(400)\n",
    "    message = request.json['message']\n",
    "    \n",
    "    sentence = Sentence(message)\n",
    "    classifier.predict(sentence)\n",
    "    response = {'sentiment': sentence.labels[0].value, 'polarity':sentence.labels[0].score}\n",
    "    \n",
    "    return jsonify(response), 200\n",
    "\n",
    "if __name__ == '__main__':\n",
    "    app.run(host=\"0.0.0.0\",port=5000)"
   ]
  },
  {
   "cell_type": "code",
   "execution_count": null,
   "metadata": {},
   "outputs": [],
   "source": [
    "import requests\n",
    "\n",
    "url = 'http://18.217.83.127:5000/api/v1'\n",
    "msg = {'message':'The book was engaging, enjoyed reading, definitely recommending'}\n",
    "\n",
    "response = requests.post(url, json = msg)\n",
    "\n",
    "#print the response text (the content of the requested file):\n",
    "print(response.text)"
   ]
  },
  {
   "cell_type": "code",
   "execution_count": null,
   "metadata": {},
   "outputs": [],
   "source": []
  }
 ],
 "metadata": {
  "kernelspec": {
   "display_name": "Python 3",
   "language": "python",
   "name": "python3"
  },
  "language_info": {
   "codemirror_mode": {
    "name": "ipython",
    "version": 3
   },
   "file_extension": ".py",
   "mimetype": "text/x-python",
   "name": "python",
   "nbconvert_exporter": "python",
   "pygments_lexer": "ipython3",
   "version": "3.8.3"
  }
 },
 "nbformat": 4,
 "nbformat_minor": 4
}
